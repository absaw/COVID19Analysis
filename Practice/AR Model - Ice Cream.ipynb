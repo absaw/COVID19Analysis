{
 "cells": [
  {
   "cell_type": "code",
   "execution_count": null,
   "id": "ecde779b",
   "metadata": {},
   "outputs": [],
   "source": [
    "import pandas as pd\n",
    "import numpy as np\n",
    "import matplotlib.pyplot as plt\n",
    "from datetime import datetime\n",
    "from statsmodels.graphics.tsaplots import plot_acf, plot_pacf\n"
   ]
  },
  {
   "cell_type": "code",
   "execution_count": 50,
   "id": "8b47e6f0",
   "metadata": {},
   "outputs": [],
   "source": [
    "from time import time"
   ]
  },
  {
   "cell_type": "code",
   "execution_count": 43,
   "id": "877b5510",
   "metadata": {},
   "outputs": [],
   "source": [
    "#from statsmodels.tsa.arima_model import ARIMA #Depreceated \n",
    "from statsmodels.tsa.arima.model import ARIMA"
   ]
  },
  {
   "cell_type": "code",
   "execution_count": 4,
   "id": "eda0b348",
   "metadata": {},
   "outputs": [],
   "source": [
    "df_ice_cream = pd.read_csv('ice_cream.csv')"
   ]
  },
  {
   "cell_type": "code",
   "execution_count": 6,
   "id": "528c81d2",
   "metadata": {},
   "outputs": [
    {
     "data": {
      "text/html": [
       "<div>\n",
       "<style scoped>\n",
       "    .dataframe tbody tr th:only-of-type {\n",
       "        vertical-align: middle;\n",
       "    }\n",
       "\n",
       "    .dataframe tbody tr th {\n",
       "        vertical-align: top;\n",
       "    }\n",
       "\n",
       "    .dataframe thead th {\n",
       "        text-align: right;\n",
       "    }\n",
       "</style>\n",
       "<table border=\"1\" class=\"dataframe\">\n",
       "  <thead>\n",
       "    <tr style=\"text-align: right;\">\n",
       "      <th></th>\n",
       "      <th>DATE</th>\n",
       "      <th>IPN31152N</th>\n",
       "    </tr>\n",
       "  </thead>\n",
       "  <tbody>\n",
       "    <tr>\n",
       "      <th>0</th>\n",
       "      <td>1972-01-01</td>\n",
       "      <td>59.9622</td>\n",
       "    </tr>\n",
       "    <tr>\n",
       "      <th>1</th>\n",
       "      <td>1972-02-01</td>\n",
       "      <td>67.0605</td>\n",
       "    </tr>\n",
       "    <tr>\n",
       "      <th>2</th>\n",
       "      <td>1972-03-01</td>\n",
       "      <td>74.2350</td>\n",
       "    </tr>\n",
       "    <tr>\n",
       "      <th>3</th>\n",
       "      <td>1972-04-01</td>\n",
       "      <td>78.1120</td>\n",
       "    </tr>\n",
       "    <tr>\n",
       "      <th>4</th>\n",
       "      <td>1972-05-01</td>\n",
       "      <td>84.7636</td>\n",
       "    </tr>\n",
       "  </tbody>\n",
       "</table>\n",
       "</div>"
      ],
      "text/plain": [
       "         DATE  IPN31152N\n",
       "0  1972-01-01    59.9622\n",
       "1  1972-02-01    67.0605\n",
       "2  1972-03-01    74.2350\n",
       "3  1972-04-01    78.1120\n",
       "4  1972-05-01    84.7636"
      ]
     },
     "execution_count": 6,
     "metadata": {},
     "output_type": "execute_result"
    }
   ],
   "source": [
    "df_ice_cream.head()"
   ]
  },
  {
   "cell_type": "code",
   "execution_count": 8,
   "id": "3684aa19",
   "metadata": {},
   "outputs": [
    {
     "data": {
      "text/plain": [
       "(577, 2)"
      ]
     },
     "execution_count": 8,
     "metadata": {},
     "output_type": "execute_result"
    }
   ],
   "source": [
    "df_ice_cream.shape"
   ]
  },
  {
   "cell_type": "code",
   "execution_count": 9,
   "id": "91dffb8f",
   "metadata": {},
   "outputs": [],
   "source": [
    "df_ice_cream.rename(columns={'DATE':'Date','IPN31152N':'Production'},inplace=True)"
   ]
  },
  {
   "cell_type": "code",
   "execution_count": 10,
   "id": "85d40809",
   "metadata": {},
   "outputs": [
    {
     "data": {
      "text/html": [
       "<div>\n",
       "<style scoped>\n",
       "    .dataframe tbody tr th:only-of-type {\n",
       "        vertical-align: middle;\n",
       "    }\n",
       "\n",
       "    .dataframe tbody tr th {\n",
       "        vertical-align: top;\n",
       "    }\n",
       "\n",
       "    .dataframe thead th {\n",
       "        text-align: right;\n",
       "    }\n",
       "</style>\n",
       "<table border=\"1\" class=\"dataframe\">\n",
       "  <thead>\n",
       "    <tr style=\"text-align: right;\">\n",
       "      <th></th>\n",
       "      <th>Date</th>\n",
       "      <th>Production</th>\n",
       "    </tr>\n",
       "  </thead>\n",
       "  <tbody>\n",
       "    <tr>\n",
       "      <th>0</th>\n",
       "      <td>1972-01-01</td>\n",
       "      <td>59.9622</td>\n",
       "    </tr>\n",
       "    <tr>\n",
       "      <th>1</th>\n",
       "      <td>1972-02-01</td>\n",
       "      <td>67.0605</td>\n",
       "    </tr>\n",
       "    <tr>\n",
       "      <th>2</th>\n",
       "      <td>1972-03-01</td>\n",
       "      <td>74.2350</td>\n",
       "    </tr>\n",
       "    <tr>\n",
       "      <th>3</th>\n",
       "      <td>1972-04-01</td>\n",
       "      <td>78.1120</td>\n",
       "    </tr>\n",
       "    <tr>\n",
       "      <th>4</th>\n",
       "      <td>1972-05-01</td>\n",
       "      <td>84.7636</td>\n",
       "    </tr>\n",
       "  </tbody>\n",
       "</table>\n",
       "</div>"
      ],
      "text/plain": [
       "         Date  Production\n",
       "0  1972-01-01     59.9622\n",
       "1  1972-02-01     67.0605\n",
       "2  1972-03-01     74.2350\n",
       "3  1972-04-01     78.1120\n",
       "4  1972-05-01     84.7636"
      ]
     },
     "execution_count": 10,
     "metadata": {},
     "output_type": "execute_result"
    }
   ],
   "source": [
    "df_ice_cream.head()"
   ]
  },
  {
   "cell_type": "code",
   "execution_count": 11,
   "id": "4d77c70c",
   "metadata": {},
   "outputs": [],
   "source": [
    "df_ice_cream['Date']=pd.to_datetime(df_ice_cream.Date)"
   ]
  },
  {
   "cell_type": "code",
   "execution_count": 12,
   "id": "e29606b0",
   "metadata": {},
   "outputs": [
    {
     "data": {
      "text/html": [
       "<div>\n",
       "<style scoped>\n",
       "    .dataframe tbody tr th:only-of-type {\n",
       "        vertical-align: middle;\n",
       "    }\n",
       "\n",
       "    .dataframe tbody tr th {\n",
       "        vertical-align: top;\n",
       "    }\n",
       "\n",
       "    .dataframe thead th {\n",
       "        text-align: right;\n",
       "    }\n",
       "</style>\n",
       "<table border=\"1\" class=\"dataframe\">\n",
       "  <thead>\n",
       "    <tr style=\"text-align: right;\">\n",
       "      <th></th>\n",
       "      <th>Date</th>\n",
       "      <th>Production</th>\n",
       "    </tr>\n",
       "  </thead>\n",
       "  <tbody>\n",
       "    <tr>\n",
       "      <th>0</th>\n",
       "      <td>1972-01-01</td>\n",
       "      <td>59.9622</td>\n",
       "    </tr>\n",
       "    <tr>\n",
       "      <th>1</th>\n",
       "      <td>1972-02-01</td>\n",
       "      <td>67.0605</td>\n",
       "    </tr>\n",
       "    <tr>\n",
       "      <th>2</th>\n",
       "      <td>1972-03-01</td>\n",
       "      <td>74.2350</td>\n",
       "    </tr>\n",
       "    <tr>\n",
       "      <th>3</th>\n",
       "      <td>1972-04-01</td>\n",
       "      <td>78.1120</td>\n",
       "    </tr>\n",
       "    <tr>\n",
       "      <th>4</th>\n",
       "      <td>1972-05-01</td>\n",
       "      <td>84.7636</td>\n",
       "    </tr>\n",
       "  </tbody>\n",
       "</table>\n",
       "</div>"
      ],
      "text/plain": [
       "        Date  Production\n",
       "0 1972-01-01     59.9622\n",
       "1 1972-02-01     67.0605\n",
       "2 1972-03-01     74.2350\n",
       "3 1972-04-01     78.1120\n",
       "4 1972-05-01     84.7636"
      ]
     },
     "execution_count": 12,
     "metadata": {},
     "output_type": "execute_result"
    }
   ],
   "source": [
    "df_ice_cream.head()"
   ]
  },
  {
   "cell_type": "code",
   "execution_count": 13,
   "id": "38d8f877",
   "metadata": {},
   "outputs": [],
   "source": [
    "df_ice_cream.set_index('Date',inplace=True)"
   ]
  },
  {
   "cell_type": "code",
   "execution_count": 14,
   "id": "a4c8de74",
   "metadata": {},
   "outputs": [
    {
     "data": {
      "text/html": [
       "<div>\n",
       "<style scoped>\n",
       "    .dataframe tbody tr th:only-of-type {\n",
       "        vertical-align: middle;\n",
       "    }\n",
       "\n",
       "    .dataframe tbody tr th {\n",
       "        vertical-align: top;\n",
       "    }\n",
       "\n",
       "    .dataframe thead th {\n",
       "        text-align: right;\n",
       "    }\n",
       "</style>\n",
       "<table border=\"1\" class=\"dataframe\">\n",
       "  <thead>\n",
       "    <tr style=\"text-align: right;\">\n",
       "      <th></th>\n",
       "      <th>Production</th>\n",
       "    </tr>\n",
       "    <tr>\n",
       "      <th>Date</th>\n",
       "      <th></th>\n",
       "    </tr>\n",
       "  </thead>\n",
       "  <tbody>\n",
       "    <tr>\n",
       "      <th>1972-01-01</th>\n",
       "      <td>59.9622</td>\n",
       "    </tr>\n",
       "    <tr>\n",
       "      <th>1972-02-01</th>\n",
       "      <td>67.0605</td>\n",
       "    </tr>\n",
       "    <tr>\n",
       "      <th>1972-03-01</th>\n",
       "      <td>74.2350</td>\n",
       "    </tr>\n",
       "    <tr>\n",
       "      <th>1972-04-01</th>\n",
       "      <td>78.1120</td>\n",
       "    </tr>\n",
       "    <tr>\n",
       "      <th>1972-05-01</th>\n",
       "      <td>84.7636</td>\n",
       "    </tr>\n",
       "  </tbody>\n",
       "</table>\n",
       "</div>"
      ],
      "text/plain": [
       "            Production\n",
       "Date                  \n",
       "1972-01-01     59.9622\n",
       "1972-02-01     67.0605\n",
       "1972-03-01     74.2350\n",
       "1972-04-01     78.1120\n",
       "1972-05-01     84.7636"
      ]
     },
     "execution_count": 14,
     "metadata": {},
     "output_type": "execute_result"
    }
   ],
   "source": [
    "df_ice_cream.head()"
   ]
  },
  {
   "cell_type": "code",
   "execution_count": 15,
   "id": "af4ca5c1",
   "metadata": {},
   "outputs": [],
   "source": [
    "start_date=pd.to_datetime('2010-01-01')\n",
    "df_ice_cream=df_ice_cream[start_date:]"
   ]
  },
  {
   "cell_type": "code",
   "execution_count": 16,
   "id": "5ca6b7a4",
   "metadata": {},
   "outputs": [
    {
     "data": {
      "text/html": [
       "<div>\n",
       "<style scoped>\n",
       "    .dataframe tbody tr th:only-of-type {\n",
       "        vertical-align: middle;\n",
       "    }\n",
       "\n",
       "    .dataframe tbody tr th {\n",
       "        vertical-align: top;\n",
       "    }\n",
       "\n",
       "    .dataframe thead th {\n",
       "        text-align: right;\n",
       "    }\n",
       "</style>\n",
       "<table border=\"1\" class=\"dataframe\">\n",
       "  <thead>\n",
       "    <tr style=\"text-align: right;\">\n",
       "      <th></th>\n",
       "      <th>Production</th>\n",
       "    </tr>\n",
       "    <tr>\n",
       "      <th>Date</th>\n",
       "      <th></th>\n",
       "    </tr>\n",
       "  </thead>\n",
       "  <tbody>\n",
       "    <tr>\n",
       "      <th>2010-01-01</th>\n",
       "      <td>91.2895</td>\n",
       "    </tr>\n",
       "    <tr>\n",
       "      <th>2010-02-01</th>\n",
       "      <td>110.4994</td>\n",
       "    </tr>\n",
       "    <tr>\n",
       "      <th>2010-03-01</th>\n",
       "      <td>127.0971</td>\n",
       "    </tr>\n",
       "    <tr>\n",
       "      <th>2010-04-01</th>\n",
       "      <td>132.6468</td>\n",
       "    </tr>\n",
       "    <tr>\n",
       "      <th>2010-05-01</th>\n",
       "      <td>134.5576</td>\n",
       "    </tr>\n",
       "  </tbody>\n",
       "</table>\n",
       "</div>"
      ],
      "text/plain": [
       "            Production\n",
       "Date                  \n",
       "2010-01-01     91.2895\n",
       "2010-02-01    110.4994\n",
       "2010-03-01    127.0971\n",
       "2010-04-01    132.6468\n",
       "2010-05-01    134.5576"
      ]
     },
     "execution_count": 16,
     "metadata": {},
     "output_type": "execute_result"
    }
   ],
   "source": [
    "df_ice_cream.head()"
   ]
  },
  {
   "cell_type": "code",
   "execution_count": 27,
   "id": "4520929c",
   "metadata": {},
   "outputs": [
    {
     "data": {
      "image/png": "[encoded data removed]",
      "text/plain": [
       "<Figure size 720x288 with 1 Axes>"
      ]
     },
     "metadata": {
      "needs_background": "light"
     },
     "output_type": "display_data"
    }
   ],
   "source": [
    "plt.figure(figsize=(10,4))\n",
    "plt.plot(df_ice_cream.Production)\n",
    "plt.title('Ice Cream Production over time',fontsize=20)\n",
    "plt.ylabel('Production over years',fontsize=16)\n",
    "plt.xlabel('Years',fontsize=16)\n",
    "for year in range(2010,2020):\n",
    "    plt.axvline(pd.to_datetime(str(year)+'-01-01'),linestyle='--',color='grey')"
   ]
  },
  {
   "cell_type": "code",
   "execution_count": 29,
   "id": "9826b2c5",
   "metadata": {},
   "outputs": [
    {
     "data": {
      "image/png": "[encoded data removed]",
      "text/plain": [
       "<Figure size 432x288 with 1 Axes>"
      ]
     },
     "metadata": {
      "needs_background": "light"
     },
     "output_type": "display_data"
    }
   ],
   "source": [
    "acf_plot=plot_acf(df_ice_cream.Production,lags=100)"
   ]
  },
  {
   "cell_type": "markdown",
   "id": "303f0233",
   "metadata": {},
   "source": [
    "## Since the plot is decaying over time, it is an autoregressive model. If the plot would have shut off after some lags, it would have suited a moving average model.\n",
    "## The blue shaded lags are insignificant"
   ]
  },
  {
   "cell_type": "code",
   "execution_count": 34,
   "id": "af7c1eb1",
   "metadata": {},
   "outputs": [
    {
     "data": {
      "image/png": "[encoded data removed]",
      "text/plain": [
       "<Figure size 432x288 with 1 Axes>"
      ]
     },
     "metadata": {
      "needs_background": "light"
     },
     "output_type": "display_data"
    }
   ],
   "source": [
    "pacf_plot=plot_pacf(df_ice_cream.Production)"
   ]
  },
  {
   "cell_type": "code",
   "execution_count": 47,
   "id": "f82448ca",
   "metadata": {},
   "outputs": [],
   "source": [
    "train_end = datetime(2018,12,1)\n",
    "\n",
    "test_end = datetime(2019,12,1)\n",
    "train = df_ice_cream[:train_end]\n",
    "\n",
    "from datetime import timedelta\n",
    "test = df_ice_cream[train_end+timedelta(days=1):test_end]"
   ]
  },
  {
   "cell_type": "markdown",
   "id": "88f33d99",
   "metadata": {},
   "source": [
    "# Fitting the AR Model"
   ]
  },
  {
   "cell_type": "code",
   "execution_count": 45,
   "id": "affe8237",
   "metadata": {},
   "outputs": [],
   "source": [
    "df_ice_cream = df_ice_cream.asfreq(pd.infer_freq(df_ice_cream.index))#inferring the frequency as the index values"
   ]
  },
  {
   "cell_type": "code",
   "execution_count": 48,
   "id": "74cd4f50",
   "metadata": {},
   "outputs": [],
   "source": [
    "ar_model = ARIMA(train,order=(3,0,0))"
   ]
  },
  {
   "cell_type": "code",
   "execution_count": 55,
   "id": "5ec2af33",
   "metadata": {},
   "outputs": [
    {
     "name": "stdout",
     "output_type": "stream",
     "text": [
      "Model Fitting Time 0.137237548828125\n"
     ]
    }
   ],
   "source": [
    "start = time()\n",
    "ar_model_fit=ar_model.fit()\n",
    "end = time()\n",
    "print('Model Fitting Time',end-start)"
   ]
  },
  {
   "cell_type": "code",
   "execution_count": 57,
   "id": "28bbca73",
   "metadata": {},
   "outputs": [
    {
     "name": "stdout",
     "output_type": "stream",
     "text": [
      "                               SARIMAX Results                                \n",
      "==============================================================================\n",
      "Dep. Variable:             Production   No. Observations:                  108\n",
      "Model:                 ARIMA(3, 0, 0)   Log Likelihood                -374.085\n",
      "Date:                Sun, 12 Sep 2021   AIC                            758.170\n",
      "Time:                        08:42:33   BIC                            771.580\n",
      "Sample:                    01-01-2010   HQIC                           763.607\n",
      "                         - 12-01-2018                                         \n",
      "Covariance Type:                  opg                                         \n",
      "==============================================================================\n",
      "                 coef    std err          z      P>|z|      [0.025      0.975]\n",
      "------------------------------------------------------------------------------\n",
      "const        103.5743      2.169     47.761      0.000      99.324     107.825\n",
      "ar.L1          1.0469      0.102     10.256      0.000       0.847       1.247\n",
      "ar.L2         -0.0523      0.175     -0.298      0.765      -0.396       0.291\n",
      "ar.L3         -0.4044      0.123     -3.290      0.001      -0.645      -0.164\n",
      "sigma2        58.4026      9.475      6.164      0.000      39.831      76.974\n",
      "===================================================================================\n",
      "Ljung-Box (L1) (Q):                   0.63   Jarque-Bera (JB):                 8.71\n",
      "Prob(Q):                              0.43   Prob(JB):                         0.01\n",
      "Heteroskedasticity (H):               0.76   Skew:                             0.70\n",
      "Prob(H) (two-sided):                  0.41   Kurtosis:                         3.02\n",
      "===================================================================================\n",
      "\n",
      "Warnings:\n",
      "[1] Covariance matrix calculated using the outer product of gradients (complex-step).\n"
     ]
    }
   ],
   "source": [
    "#Summary of model\n",
    "print(ar_model_fit.summary())"
   ]
  },
  {
   "cell_type": "code",
   "execution_count": 125,
   "id": "18063c68",
   "metadata": {},
   "outputs": [
    {
     "name": "stdout",
     "output_type": "stream",
     "text": [
      "2010-01-01 00:00:00\n",
      "2010-01-01 00:00:00\n",
      "<class 'pandas.core.series.Series'>\n"
     ]
    }
   ],
   "source": [
    "print(df_ice_cream.index[0])\n",
    "\n",
    "print(train.index[0])\n",
    "\n",
    "print(type(predictions))"
   ]
  },
  {
   "cell_type": "code",
   "execution_count": 126,
   "id": "cf2c547f",
   "metadata": {},
   "outputs": [
    {
     "name": "stdout",
     "output_type": "stream",
     "text": [
      "2019-01-01 00:00:00\n",
      "2019-12-01 00:00:00\n"
     ]
    }
   ],
   "source": [
    "pred_start_date=test.index[0]\n",
    "pred_end_date=test.index[-1]\n",
    "\n",
    "\n",
    "print(pred_start_date)\n",
    "print(pred_end_date)\n",
    "\n",
    "predictions = ar_model_fit.predict(start=pred_start_date, end=pred_end_date)\n",
    "# residuals=test-predictions#Residuals from here not valid, since predictions is a series"
   ]
  },
  {
   "cell_type": "code",
   "execution_count": 131,
   "id": "8092be57",
   "metadata": {},
   "outputs": [
    {
     "data": {
      "text/plain": [
       "pandas.core.series.Series"
      ]
     },
     "execution_count": 131,
     "metadata": {},
     "output_type": "execute_result"
    }
   ],
   "source": [
    "type(predictions)"
   ]
  },
  {
   "cell_type": "code",
   "execution_count": 136,
   "id": "157b2caa",
   "metadata": {},
   "outputs": [],
   "source": [
    "test_s=test.iloc[:,0]"
   ]
  },
  {
   "cell_type": "code",
   "execution_count": 138,
   "id": "2d1fd50e",
   "metadata": {},
   "outputs": [
    {
     "data": {
      "text/plain": [
       "pandas.core.series.Series"
      ]
     },
     "execution_count": 138,
     "metadata": {},
     "output_type": "execute_result"
    }
   ],
   "source": [
    "type(test_s)"
   ]
  },
  {
   "cell_type": "code",
   "execution_count": 139,
   "id": "304df879",
   "metadata": {},
   "outputs": [],
   "source": [
    "residuals=test_s-predictions"
   ]
  },
  {
   "cell_type": "code",
   "execution_count": 141,
   "id": "27dbf70d",
   "metadata": {},
   "outputs": [
    {
     "data": {
      "text/plain": [
       "Date\n",
       "2019-01-01     5.762551\n",
       "2019-02-01     7.971090\n",
       "2019-03-01    14.648628\n",
       "2019-04-01     3.806251\n",
       "2019-05-01    -2.499282\n",
       "Freq: MS, dtype: float64"
      ]
     },
     "execution_count": 141,
     "metadata": {},
     "output_type": "execute_result"
    }
   ],
   "source": [
    "residuals.head()"
   ]
  },
  {
   "cell_type": "code",
   "execution_count": 140,
   "id": "90d356fe",
   "metadata": {},
   "outputs": [
    {
     "data": {
      "text/plain": [
       "[<matplotlib.lines.Line2D at 0x26ccea36490>]"
      ]
     },
     "execution_count": 140,
     "metadata": {},
     "output_type": "execute_result"
    },
    {
     "data": {
      "image/png": "[encoded data removed]",
      "text/plain": [
       "<Figure size 432x288 with 1 Axes>"
      ]
     },
     "metadata": {
      "needs_background": "light"
     },
     "output_type": "display_data"
    }
   ],
   "source": [
    "plt.plot(residuals)"
   ]
  },
  {
   "cell_type": "code",
   "execution_count": 142,
   "id": "32a75b00",
   "metadata": {},
   "outputs": [
    {
     "name": "stdout",
     "output_type": "stream",
     "text": [
      "Mean Absolute Error 2019-01-01 00:00:00   NaN\n",
      "2019-02-01 00:00:00   NaN\n",
      "2019-03-01 00:00:00   NaN\n",
      "2019-04-01 00:00:00   NaN\n",
      "2019-05-01 00:00:00   NaN\n",
      "2019-06-01 00:00:00   NaN\n",
      "2019-07-01 00:00:00   NaN\n",
      "2019-08-01 00:00:00   NaN\n",
      "2019-09-01 00:00:00   NaN\n",
      "2019-10-01 00:00:00   NaN\n",
      "2019-11-01 00:00:00   NaN\n",
      "2019-12-01 00:00:00   NaN\n",
      "Pr                    NaN\n",
      "Predictions           NaN\n",
      "Production            NaN\n",
      "dtype: float64 4\n"
     ]
    }
   ],
   "source": [
    "print('Mean Absolute Error',round(np.mean(abs(residuals/test))),4)"
   ]
  },
  {
   "cell_type": "code",
   "execution_count": 132,
   "id": "e1bd8893",
   "metadata": {},
   "outputs": [
    {
     "data": {
      "text/plain": [
       "[<matplotlib.lines.Line2D at 0x26cd322ee80>,\n",
       " <matplotlib.lines.Line2D at 0x26cd352eca0>,\n",
       " <matplotlib.lines.Line2D at 0x26cd2c03c40>]"
      ]
     },
     "execution_count": 132,
     "metadata": {},
     "output_type": "execute_result"
    },
    {
     "data": {
      "image/png": "[encoded data removed]",
      "text/plain": [
       "<Figure size 432x288 with 1 Axes>"
      ]
     },
     "metadata": {
      "needs_background": "light"
     },
     "output_type": "display_data"
    }
   ],
   "source": [
    "plt.plot(predictions)\n",
    "plt.plot(test)\n"
   ]
  },
  {
   "cell_type": "code",
   "execution_count": 143,
   "id": "de11e5b5",
   "metadata": {},
   "outputs": [],
   "source": [
    "from sklearn.metrics import mean_squared_error as mse\n",
    "from sklearn.metrics import mean_absolute_error as mae\n",
    "\n",
    "\n",
    "mean_abs_error=mae(test_s,predictions)\n",
    "\n",
    "mean_abs_error\n",
    "\n",
    "mean_sqr_error=mse(test_s,predictions)#Mean Square error\n",
    "\n",
    "len(test_s)\n",
    "\n",
    "residuals.sum()*1.0/len(test_s)#Bias. Net positive or negative error\n",
    "\n",
    "np.sqrt(mean_sqr_error)#root mean square error"
   ]
  },
  {
   "cell_type": "code",
   "execution_count": 144,
   "id": "e90e7d75",
   "metadata": {},
   "outputs": [
    {
     "name": "stdout",
     "output_type": "stream",
     "text": [
      "<class 'pandas.core.frame.DataFrame'>\n",
      "DatetimeIndex: 12 entries, 2019-01-01 to 2019-12-01\n",
      "Freq: MS\n",
      "Data columns (total 3 columns):\n",
      " #   Column       Non-Null Count  Dtype  \n",
      "---  ------       --------------  -----  \n",
      " 0   Production   12 non-null     float64\n",
      " 1   Predictions  12 non-null     float64\n",
      " 2   Pr           12 non-null     float64\n",
      "dtypes: float64(3)\n",
      "memory usage: 684.0 bytes\n"
     ]
    }
   ],
   "source": [
    "test.info()"
   ]
  },
  {
   "cell_type": "code",
   "execution_count": 93,
   "id": "b1e6b6c9",
   "metadata": {},
   "outputs": [
    {
     "data": {
      "text/plain": [
       "Date\n",
       "2019-01-01     81.236249\n",
       "2019-02-01     90.140510\n",
       "2019-03-01    101.523172\n",
       "2019-04-01    111.164049\n",
       "2019-05-01    117.060582\n",
       "Freq: MS, Name: predicted_mean, dtype: float64"
      ]
     },
     "execution_count": 93,
     "metadata": {},
     "output_type": "execute_result"
    }
   ],
   "source": [
    "predictions.head()"
   ]
  },
  {
   "cell_type": "code",
   "execution_count": 92,
   "id": "d348fd58",
   "metadata": {},
   "outputs": [],
   "source": [
    "predictions.index=test.index"
   ]
  },
  {
   "cell_type": "code",
   "execution_count": 94,
   "id": "b54b4c48",
   "metadata": {},
   "outputs": [],
   "source": [
    "pred_df=predictions.to_frame()"
   ]
  },
  {
   "cell_type": "code",
   "execution_count": 95,
   "id": "29ff52fb",
   "metadata": {},
   "outputs": [
    {
     "data": {
      "text/html": [
       "<div>\n",
       "<style scoped>\n",
       "    .dataframe tbody tr th:only-of-type {\n",
       "        vertical-align: middle;\n",
       "    }\n",
       "\n",
       "    .dataframe tbody tr th {\n",
       "        vertical-align: top;\n",
       "    }\n",
       "\n",
       "    .dataframe thead th {\n",
       "        text-align: right;\n",
       "    }\n",
       "</style>\n",
       "<table border=\"1\" class=\"dataframe\">\n",
       "  <thead>\n",
       "    <tr style=\"text-align: right;\">\n",
       "      <th></th>\n",
       "      <th>predicted_mean</th>\n",
       "    </tr>\n",
       "    <tr>\n",
       "      <th>Date</th>\n",
       "      <th></th>\n",
       "    </tr>\n",
       "  </thead>\n",
       "  <tbody>\n",
       "    <tr>\n",
       "      <th>2019-01-01</th>\n",
       "      <td>81.236249</td>\n",
       "    </tr>\n",
       "    <tr>\n",
       "      <th>2019-02-01</th>\n",
       "      <td>90.140510</td>\n",
       "    </tr>\n",
       "    <tr>\n",
       "      <th>2019-03-01</th>\n",
       "      <td>101.523172</td>\n",
       "    </tr>\n",
       "    <tr>\n",
       "      <th>2019-04-01</th>\n",
       "      <td>111.164049</td>\n",
       "    </tr>\n",
       "    <tr>\n",
       "      <th>2019-05-01</th>\n",
       "      <td>117.060582</td>\n",
       "    </tr>\n",
       "  </tbody>\n",
       "</table>\n",
       "</div>"
      ],
      "text/plain": [
       "            predicted_mean\n",
       "Date                      \n",
       "2019-01-01       81.236249\n",
       "2019-02-01       90.140510\n",
       "2019-03-01      101.523172\n",
       "2019-04-01      111.164049\n",
       "2019-05-01      117.060582"
      ]
     },
     "execution_count": 95,
     "metadata": {},
     "output_type": "execute_result"
    }
   ],
   "source": [
    "pred_df.head()"
   ]
  },
  {
   "cell_type": "code",
   "execution_count": 97,
   "id": "3bbcb327",
   "metadata": {},
   "outputs": [
    {
     "data": {
      "text/plain": [
       "(12, 1)"
      ]
     },
     "execution_count": 97,
     "metadata": {},
     "output_type": "execute_result"
    }
   ],
   "source": [
    "pred_df.shape"
   ]
  },
  {
   "cell_type": "code",
   "execution_count": 98,
   "id": "2db15a28",
   "metadata": {},
   "outputs": [
    {
     "data": {
      "text/plain": [
       "(12, 1)"
      ]
     },
     "execution_count": 98,
     "metadata": {},
     "output_type": "execute_result"
    }
   ],
   "source": [
    "test.shape"
   ]
  },
  {
   "cell_type": "code",
   "execution_count": 112,
   "id": "d1826b20",
   "metadata": {},
   "outputs": [
    {
     "data": {
      "text/html": [
       "<div>\n",
       "<style scoped>\n",
       "    .dataframe tbody tr th:only-of-type {\n",
       "        vertical-align: middle;\n",
       "    }\n",
       "\n",
       "    .dataframe tbody tr th {\n",
       "        vertical-align: top;\n",
       "    }\n",
       "\n",
       "    .dataframe thead th {\n",
       "        text-align: right;\n",
       "    }\n",
       "</style>\n",
       "<table border=\"1\" class=\"dataframe\">\n",
       "  <thead>\n",
       "    <tr style=\"text-align: right;\">\n",
       "      <th></th>\n",
       "      <th>Production</th>\n",
       "      <th>Predictions</th>\n",
       "      <th>Pr</th>\n",
       "    </tr>\n",
       "    <tr>\n",
       "      <th>Date</th>\n",
       "      <th></th>\n",
       "      <th></th>\n",
       "      <th></th>\n",
       "    </tr>\n",
       "  </thead>\n",
       "  <tbody>\n",
       "    <tr>\n",
       "      <th>2019-01-01</th>\n",
       "      <td>86.9988</td>\n",
       "      <td>81.236249</td>\n",
       "      <td>81.236249</td>\n",
       "    </tr>\n",
       "    <tr>\n",
       "      <th>2019-02-01</th>\n",
       "      <td>98.1116</td>\n",
       "      <td>90.140510</td>\n",
       "      <td>90.140510</td>\n",
       "    </tr>\n",
       "    <tr>\n",
       "      <th>2019-03-01</th>\n",
       "      <td>116.1718</td>\n",
       "      <td>101.523172</td>\n",
       "      <td>101.523172</td>\n",
       "    </tr>\n",
       "    <tr>\n",
       "      <th>2019-04-01</th>\n",
       "      <td>114.9703</td>\n",
       "      <td>111.164049</td>\n",
       "      <td>111.164049</td>\n",
       "    </tr>\n",
       "    <tr>\n",
       "      <th>2019-05-01</th>\n",
       "      <td>114.5613</td>\n",
       "      <td>117.060582</td>\n",
       "      <td>117.060582</td>\n",
       "    </tr>\n",
       "  </tbody>\n",
       "</table>\n",
       "</div>"
      ],
      "text/plain": [
       "            Production  Predictions          Pr\n",
       "Date                                           \n",
       "2019-01-01     86.9988    81.236249   81.236249\n",
       "2019-02-01     98.1116    90.140510   90.140510\n",
       "2019-03-01    116.1718   101.523172  101.523172\n",
       "2019-04-01    114.9703   111.164049  111.164049\n",
       "2019-05-01    114.5613   117.060582  117.060582"
      ]
     },
     "execution_count": 112,
     "metadata": {},
     "output_type": "execute_result"
    }
   ],
   "source": [
    "test.head()"
   ]
  },
  {
   "cell_type": "code",
   "execution_count": 103,
   "id": "1671ec2c",
   "metadata": {},
   "outputs": [],
   "source": [
    "result=test"
   ]
  },
  {
   "cell_type": "code",
   "execution_count": 106,
   "id": "1a295eb2",
   "metadata": {},
   "outputs": [
    {
     "data": {
      "text/html": [
       "<div>\n",
       "<style scoped>\n",
       "    .dataframe tbody tr th:only-of-type {\n",
       "        vertical-align: middle;\n",
       "    }\n",
       "\n",
       "    .dataframe tbody tr th {\n",
       "        vertical-align: top;\n",
       "    }\n",
       "\n",
       "    .dataframe thead th {\n",
       "        text-align: right;\n",
       "    }\n",
       "</style>\n",
       "<table border=\"1\" class=\"dataframe\">\n",
       "  <thead>\n",
       "    <tr style=\"text-align: right;\">\n",
       "      <th></th>\n",
       "      <th>Production</th>\n",
       "      <th>Predictions</th>\n",
       "      <th>predicted_mean</th>\n",
       "    </tr>\n",
       "    <tr>\n",
       "      <th>Date</th>\n",
       "      <th></th>\n",
       "      <th></th>\n",
       "      <th></th>\n",
       "    </tr>\n",
       "  </thead>\n",
       "  <tbody>\n",
       "    <tr>\n",
       "      <th>2019-01-01</th>\n",
       "      <td>86.9988</td>\n",
       "      <td>81.236249</td>\n",
       "      <td>81.236249</td>\n",
       "    </tr>\n",
       "    <tr>\n",
       "      <th>2019-02-01</th>\n",
       "      <td>98.1116</td>\n",
       "      <td>90.140510</td>\n",
       "      <td>90.140510</td>\n",
       "    </tr>\n",
       "    <tr>\n",
       "      <th>2019-03-01</th>\n",
       "      <td>116.1718</td>\n",
       "      <td>101.523172</td>\n",
       "      <td>101.523172</td>\n",
       "    </tr>\n",
       "    <tr>\n",
       "      <th>2019-04-01</th>\n",
       "      <td>114.9703</td>\n",
       "      <td>111.164049</td>\n",
       "      <td>111.164049</td>\n",
       "    </tr>\n",
       "    <tr>\n",
       "      <th>2019-05-01</th>\n",
       "      <td>114.5613</td>\n",
       "      <td>117.060582</td>\n",
       "      <td>117.060582</td>\n",
       "    </tr>\n",
       "    <tr>\n",
       "      <th>2019-06-01</th>\n",
       "      <td>124.9605</td>\n",
       "      <td>118.125846</td>\n",
       "      <td>118.125846</td>\n",
       "    </tr>\n",
       "    <tr>\n",
       "      <th>2019-07-01</th>\n",
       "      <td>110.2632</td>\n",
       "      <td>115.033483</td>\n",
       "      <td>115.033483</td>\n",
       "    </tr>\n",
       "    <tr>\n",
       "      <th>2019-08-01</th>\n",
       "      <td>102.6085</td>\n",
       "      <td>109.355515</td>\n",
       "      <td>109.355515</td>\n",
       "    </tr>\n",
       "    <tr>\n",
       "      <th>2019-09-01</th>\n",
       "      <td>100.1741</td>\n",
       "      <td>103.142077</td>\n",
       "      <td>103.142077</td>\n",
       "    </tr>\n",
       "    <tr>\n",
       "      <th>2019-10-01</th>\n",
       "      <td>90.1684</td>\n",
       "      <td>98.184812</td>\n",
       "      <td>98.184812</td>\n",
       "    </tr>\n",
       "    <tr>\n",
       "      <th>2019-11-01</th>\n",
       "      <td>79.7223</td>\n",
       "      <td>95.616387</td>\n",
       "      <td>95.616387</td>\n",
       "    </tr>\n",
       "    <tr>\n",
       "      <th>2019-12-01</th>\n",
       "      <td>75.7094</td>\n",
       "      <td>95.699737</td>\n",
       "      <td>95.699737</td>\n",
       "    </tr>\n",
       "  </tbody>\n",
       "</table>\n",
       "</div>"
      ],
      "text/plain": [
       "            Production  Predictions  predicted_mean\n",
       "Date                                               \n",
       "2019-01-01     86.9988    81.236249       81.236249\n",
       "2019-02-01     98.1116    90.140510       90.140510\n",
       "2019-03-01    116.1718   101.523172      101.523172\n",
       "2019-04-01    114.9703   111.164049      111.164049\n",
       "2019-05-01    114.5613   117.060582      117.060582\n",
       "2019-06-01    124.9605   118.125846      118.125846\n",
       "2019-07-01    110.2632   115.033483      115.033483\n",
       "2019-08-01    102.6085   109.355515      109.355515\n",
       "2019-09-01    100.1741   103.142077      103.142077\n",
       "2019-10-01     90.1684    98.184812       98.184812\n",
       "2019-11-01     79.7223    95.616387       95.616387\n",
       "2019-12-01     75.7094    95.699737       95.699737"
      ]
     },
     "execution_count": 106,
     "metadata": {},
     "output_type": "execute_result"
    }
   ],
   "source": [
    "result.join(pred_df[\"predicted_mean\"])"
   ]
  },
  {
   "cell_type": "code",
   "execution_count": 107,
   "id": "95b482b3",
   "metadata": {},
   "outputs": [
    {
     "name": "stderr",
     "output_type": "stream",
     "text": [
      "<ipython-input-107-1cb69d63052c>:1: SettingWithCopyWarning: \n",
      "A value is trying to be set on a copy of a slice from a DataFrame.\n",
      "Try using .loc[row_indexer,col_indexer] = value instead\n",
      "\n",
      "See the caveats in the documentation: https://pandas.pydata.org/pandas-docs/stable/user_guide/indexing.html#returning-a-view-versus-a-copy\n",
      "  result[\"Pr\"]=pred_df.values\n"
     ]
    }
   ],
   "source": [
    "result[\"Pr\"]=pred_df.values"
   ]
  },
  {
   "cell_type": "code",
   "execution_count": 118,
   "id": "b6f1fcbf",
   "metadata": {},
   "outputs": [],
   "source": [
    "residuals=pd.DataFrame(index=test.index,data=(test['Production']-test['Predictions']),columns=['Residuals'])"
   ]
  },
  {
   "cell_type": "code",
   "execution_count": 119,
   "id": "5d09c9c3",
   "metadata": {},
   "outputs": [
    {
     "data": {
      "text/html": [
       "<div>\n",
       "<style scoped>\n",
       "    .dataframe tbody tr th:only-of-type {\n",
       "        vertical-align: middle;\n",
       "    }\n",
       "\n",
       "    .dataframe tbody tr th {\n",
       "        vertical-align: top;\n",
       "    }\n",
       "\n",
       "    .dataframe thead th {\n",
       "        text-align: right;\n",
       "    }\n",
       "</style>\n",
       "<table border=\"1\" class=\"dataframe\">\n",
       "  <thead>\n",
       "    <tr style=\"text-align: right;\">\n",
       "      <th></th>\n",
       "      <th>Residuals</th>\n",
       "    </tr>\n",
       "    <tr>\n",
       "      <th>Date</th>\n",
       "      <th></th>\n",
       "    </tr>\n",
       "  </thead>\n",
       "  <tbody>\n",
       "    <tr>\n",
       "      <th>2019-01-01</th>\n",
       "      <td>5.762551</td>\n",
       "    </tr>\n",
       "    <tr>\n",
       "      <th>2019-02-01</th>\n",
       "      <td>7.971090</td>\n",
       "    </tr>\n",
       "    <tr>\n",
       "      <th>2019-03-01</th>\n",
       "      <td>14.648628</td>\n",
       "    </tr>\n",
       "    <tr>\n",
       "      <th>2019-04-01</th>\n",
       "      <td>3.806251</td>\n",
       "    </tr>\n",
       "    <tr>\n",
       "      <th>2019-05-01</th>\n",
       "      <td>-2.499282</td>\n",
       "    </tr>\n",
       "    <tr>\n",
       "      <th>2019-06-01</th>\n",
       "      <td>6.834654</td>\n",
       "    </tr>\n",
       "    <tr>\n",
       "      <th>2019-07-01</th>\n",
       "      <td>-4.770283</td>\n",
       "    </tr>\n",
       "    <tr>\n",
       "      <th>2019-08-01</th>\n",
       "      <td>-6.747015</td>\n",
       "    </tr>\n",
       "    <tr>\n",
       "      <th>2019-09-01</th>\n",
       "      <td>-2.967977</td>\n",
       "    </tr>\n",
       "    <tr>\n",
       "      <th>2019-10-01</th>\n",
       "      <td>-8.016412</td>\n",
       "    </tr>\n",
       "    <tr>\n",
       "      <th>2019-11-01</th>\n",
       "      <td>-15.894087</td>\n",
       "    </tr>\n",
       "    <tr>\n",
       "      <th>2019-12-01</th>\n",
       "      <td>-19.990337</td>\n",
       "    </tr>\n",
       "  </tbody>\n",
       "</table>\n",
       "</div>"
      ],
      "text/plain": [
       "            Residuals\n",
       "Date                 \n",
       "2019-01-01   5.762551\n",
       "2019-02-01   7.971090\n",
       "2019-03-01  14.648628\n",
       "2019-04-01   3.806251\n",
       "2019-05-01  -2.499282\n",
       "2019-06-01   6.834654\n",
       "2019-07-01  -4.770283\n",
       "2019-08-01  -6.747015\n",
       "2019-09-01  -2.967977\n",
       "2019-10-01  -8.016412\n",
       "2019-11-01 -15.894087\n",
       "2019-12-01 -19.990337"
      ]
     },
     "execution_count": 119,
     "metadata": {},
     "output_type": "execute_result"
    }
   ],
   "source": [
    "residuals"
   ]
  },
  {
   "cell_type": "code",
   "execution_count": 120,
   "id": "cc822422",
   "metadata": {},
   "outputs": [
    {
     "data": {
      "text/plain": [
       "[<matplotlib.lines.Line2D at 0x26cd2ed9a00>]"
      ]
     },
     "execution_count": 120,
     "metadata": {},
     "output_type": "execute_result"
    },
    {
     "data": {
      "image/png": "[encoded data removed]",
      "text/plain": [
       "<Figure size 432x288 with 1 Axes>"
      ]
     },
     "metadata": {
      "needs_background": "light"
     },
     "output_type": "display_data"
    }
   ],
   "source": [
    "plt.plot(residuals)"
   ]
  },
  {
   "cell_type": "code",
   "execution_count": 85,
   "id": "a3f3285e",
   "metadata": {},
   "outputs": [],
   "source": [
    "pred_series=pd.Series(predictions,index=test.index)"
   ]
  },
  {
   "cell_type": "code",
   "execution_count": 88,
   "id": "1da947d8",
   "metadata": {},
   "outputs": [
    {
     "data": {
      "text/plain": [
       "Date\n",
       "2019-01-01     81.236249\n",
       "2019-02-01     90.140510\n",
       "2019-03-01    101.523172\n",
       "2019-04-01    111.164049\n",
       "2019-05-01    117.060582\n",
       "Freq: MS, Name: predicted_mean, dtype: float64"
      ]
     },
     "execution_count": 88,
     "metadata": {},
     "output_type": "execute_result"
    }
   ],
   "source": [
    "pred_series.head()"
   ]
  },
  {
   "cell_type": "code",
   "execution_count": 82,
   "id": "8d21398b",
   "metadata": {},
   "outputs": [
    {
     "data": {
      "text/plain": [
       "Date\n",
       "2010-01-01   -12.284757\n",
       "2010-02-01    16.924758\n",
       "2010-03-01     7.692699\n",
       "2010-04-01    -0.160136\n",
       "2010-05-01     4.578081\n",
       "                ...    \n",
       "2018-08-01    -1.342667\n",
       "2018-09-01    -0.582123\n",
       "2018-10-01    -5.171672\n",
       "2018-11-01    -5.492402\n",
       "2018-12-01    -5.386762\n",
       "Freq: MS, Length: 108, dtype: float64"
      ]
     },
     "execution_count": 82,
     "metadata": {},
     "output_type": "execute_result"
    }
   ],
   "source": [
    "ar_model_fit.resid"
   ]
  },
  {
   "cell_type": "code",
   "execution_count": 81,
   "id": "1ef3319c",
   "metadata": {},
   "outputs": [
    {
     "ename": "AttributeError",
     "evalue": "module 'pandas' has no attribute 'Dataframe'",
     "output_type": "error",
     "traceback": [
      "\u001b[1;31m---------------------------------------------------------------------------\u001b[0m",
      "\u001b[1;31mAttributeError\u001b[0m                            Traceback (most recent call last)",
      "\u001b[1;32m<ipython-input-81-4c379c604f83>\u001b[0m in \u001b[0;36m<module>\u001b[1;34m\u001b[0m\n\u001b[1;32m----> 1\u001b[1;33m \u001b[0mpred_df\u001b[0m\u001b[1;33m=\u001b[0m\u001b[0mpd\u001b[0m\u001b[1;33m.\u001b[0m\u001b[0mDataframe\u001b[0m\u001b[1;33m(\u001b[0m\u001b[0mpredictions\u001b[0m\u001b[1;33m)\u001b[0m\u001b[1;33m\u001b[0m\u001b[1;33m\u001b[0m\u001b[0m\n\u001b[0m",
      "\u001b[1;32mC:\\ProgramData\\Anaconda3\\lib\\site-packages\\pandas\\__init__.py\u001b[0m in \u001b[0;36m__getattr__\u001b[1;34m(name)\u001b[0m\n\u001b[0;32m    242\u001b[0m         \u001b[1;32mreturn\u001b[0m \u001b[0m_SparseArray\u001b[0m\u001b[1;33m\u001b[0m\u001b[1;33m\u001b[0m\u001b[0m\n\u001b[0;32m    243\u001b[0m \u001b[1;33m\u001b[0m\u001b[0m\n\u001b[1;32m--> 244\u001b[1;33m     \u001b[1;32mraise\u001b[0m \u001b[0mAttributeError\u001b[0m\u001b[1;33m(\u001b[0m\u001b[1;34mf\"module 'pandas' has no attribute '{name}'\"\u001b[0m\u001b[1;33m)\u001b[0m\u001b[1;33m\u001b[0m\u001b[1;33m\u001b[0m\u001b[0m\n\u001b[0m\u001b[0;32m    245\u001b[0m \u001b[1;33m\u001b[0m\u001b[0m\n\u001b[0;32m    246\u001b[0m \u001b[1;33m\u001b[0m\u001b[0m\n",
      "\u001b[1;31mAttributeError\u001b[0m: module 'pandas' has no attribute 'Dataframe'"
     ]
    }
   ],
   "source": [
    "pred_df=pd.Dataframe(predictions)"
   ]
  },
  {
   "cell_type": "code",
   "execution_count": 75,
   "id": "23c197c5",
   "metadata": {},
   "outputs": [
    {
     "data": {
      "text/plain": [
       "[<matplotlib.lines.Line2D at 0x26cd31b5070>]"
      ]
     },
     "execution_count": 75,
     "metadata": {},
     "output_type": "execute_result"
    },
    {
     "data": {
      "image/png": "[encoded data removed]",
      "text/plain": [
       "<Figure size 720x288 with 1 Axes>"
      ]
     },
     "metadata": {
      "needs_background": "light"
     },
     "output_type": "display_data"
    }
   ],
   "source": [
    "plt.figure(figsize=(10,4))\n",
    "plt.plot(predictions)\n",
    "plt.plot(test)"
   ]
  },
  {
   "cell_type": "code",
   "execution_count": null,
   "id": "a1db1710",
   "metadata": {},
   "outputs": [],
   "source": [
    "#Mean absolute error\n"
   ]
  }
 ],
 "metadata": {
  "kernelspec": {
   "display_name": "Python 3",
   "language": "python",
   "name": "python3"
  },
  "language_info": {
   "codemirror_mode": {
    "name": "ipython",
    "version": 3
   },
   "file_extension": ".py",
   "mimetype": "text/x-python",
   "name": "python",
   "nbconvert_exporter": "python",
   "pygments_lexer": "ipython3",
   "version": "3.8.8"
  }
 },
 "nbformat": 4,
 "nbformat_minor": 5
}
