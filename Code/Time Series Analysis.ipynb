{
 "cells": [
  {
   "cell_type": "code",
   "execution_count": 2,
   "id": "050586af",
   "metadata": {},
   "outputs": [],
   "source": [
    "#Importing EDA related functions\n",
    "import numpy as np\n",
    "import os\n",
    "import pandas as pd\n",
    "from pandas.plotting import autocorrelation_plot\n",
    "from datetime import datetime \n",
    "\n",
    "from matplotlib import pyplot as plt\n",
    "from matplotlib import dates as mpl_dates\n",
    "#import matplotlib.pylab as plt #for visualization"
   ]
  },
  {
   "cell_type": "markdown",
   "id": "a3417f6a",
   "metadata": {},
   "source": [
    "#Importing Time series Related Functions\n",
    "\n",
    "#from sklearn.metrics import mean_squared_error\n",
    "#from sklearn.metrics import accuracy_score\n",
    "#from sklearn.ensemble import IsolationForest\n",
    "\n",
    "#from statsmodels.tsa.arima_model import ARIMA\n",
    "#from statsmodels.tsa.stattools import adfuller\n",
    "#from statsmodels.tsa.stattools import acf, pacf\n",
    "#from statsmodels.tsa.seasonal import seasonal_decompose\n",
    "\n",
    "#Taking datetime index as reading csv\n",
    "def parser(x):  \n",
    "    return datetime.strptime(x,'%m/%d/%y')  \n",
    "dataset = pd.read_csv('27IndiaConfirmed.csv',header=0, delimiter=',',index_col=0, parse_dates=[0], date_parser=parser)  \n"
   ]
  },
  {
   "cell_type": "code",
   "execution_count": 7,
   "id": "b449b7d3",
   "metadata": {},
   "outputs": [],
   "source": [
    "dataset = pd.read_csv('29IndiaConfirmed.csv',header=0, delimiter=',')\n",
    "dataset[\"DailyCases\"]=0\n",
    "# print(dataset.head(),\"\\n\")\n",
    "# print(dataset.tail(5),\"\\n\")\n",
    "# print(dataset.info(),\"\\n\")\n",
    "# print(dataset.dtypes,\"\\n\")\n"
   ]
  },
  {
   "cell_type": "code",
   "execution_count": 8,
   "id": "207dfccc",
   "metadata": {},
   "outputs": [
    {
     "name": "stdout",
     "output_type": "stream",
     "text": [
      "<class 'pandas.core.frame.DataFrame'>\n",
      "RangeIndex: 498 entries, 0 to 497\n",
      "Data columns (total 3 columns):\n",
      " #   Column          Non-Null Count  Dtype \n",
      "---  ------          --------------  ----- \n",
      " 0   Date            498 non-null    object\n",
      " 1   ConfirmedCases  498 non-null    int64 \n",
      " 2   DailyCases      498 non-null    int64 \n",
      "dtypes: int64(2), object(1)\n",
      "memory usage: 11.8+ KB\n",
      "None\n"
     ]
    }
   ],
   "source": [
    "for i in range(2,len(dataset)):\n",
    "    dataset.iloc[i,2]=dataset.iloc[i,1]-dataset.iloc[i-1,1]\n",
    "dataset['Date']=pd.to_datetime(dataset['Date'])\n",
    "# dataset.set_index('Date')#Didn't work since inplace was false by default\n",
    "dataset.set_index('Date',inplace=True)\n",
    "#Here Date column is a string(i.e. object) we need to convert it to datetime object"
   ]
  },
  {
   "cell_type": "code",
   "execution_count": 12,
   "id": "f244c0a5",
   "metadata": {},
   "outputs": [
    {
     "name": "stdout",
     "output_type": "stream",
     "text": [
      "\n",
      "             ConfirmedCases  DailyCases\n",
      "Date                                  \n",
      "2020-01-22               0           0\n",
      "2020-01-23               0           0\n"
     ]
    }
   ],
   "source": [
    "# print(dataset.info())\n",
    "print(\"\\n\",dataset.head(2))"
   ]
  },
  {
   "cell_type": "markdown",
   "id": "4038a729",
   "metadata": {},
   "source": [
    " d3=d2.copy(deep=True)  \n",
    " d3 = d3.set_index(pd.DatetimeIndex(d3['Date']))  \n",
    " d3.set_index(['Date'])  \n",
    " df.set_index(['Datetime'])  \n",
    "\n",
    "Converting string object to specific datetime format(output wala) \n",
    " * df['Dates'] = pd.to_datetime(df['Dates'], format='%y%m%d')\n",
    "\n",
    "dataset=dataset.drop(['Date'],axis=1)\n",
    "\n",
    "plt.style.use('seaborn')\n",
    "plt.figure(figsize=(12,5))\n",
    "#dataset.plot()\n",
    "plt.plot(dataset)\n",
    "plt.show()\n",
    "\n",
    "plt.style.use('seaborn')\n",
    "plt.figure(figsize=(12,5))\n",
    "plt.plot(dataset[\"DailyCases\"])\n",
    "plt.show()"
   ]
  },
  {
   "cell_type": "markdown",
   "id": "90e38c38",
   "metadata": {},
   "source": [
    "## Splitting Daily Cases dataset into train and test "
   ]
  },
  {
   "cell_type": "code",
   "execution_count": 14,
   "id": "a40f7fef",
   "metadata": {},
   "outputs": [],
   "source": [
    "from sklearn.model_selection import train_test_split as tts\n",
    "daily=dataset.filter(['DailyCases'],axis=1)\n",
    "daily = daily.asfreq(pd.infer_freq(daily.index))\n",
    "\n",
    "train_size=0.8\n",
    "test_size=0.2\n",
    "daily_train,daily_test = tts(daily,test_size = test_size, random_state=0, shuffle=False)\n",
    " "
   ]
  },
  {
   "cell_type": "code",
   "execution_count": 16,
   "id": "d03ad2ab",
   "metadata": {},
   "outputs": [
    {
     "name": "stdout",
     "output_type": "stream",
     "text": [
      "\n",
      "Daily             DailyCases\n",
      "Date                  \n",
      "2020-01-22           0\n",
      "2020-01-23           0\n",
      "\n",
      "Train             DailyCases\n",
      "Date                  \n",
      "2020-01-22           0\n",
      "2020-01-23           0\n",
      "\n",
      "Test             DailyCases\n",
      "Date                  \n",
      "2021-02-23       13742\n",
      "2021-02-24       16738\n",
      "\n",
      "Train Count :  DailyCases    398\n",
      "dtype: int64 \n",
      "Test Count :  DailyCases    100\n",
      "dtype: int64\n"
     ]
    }
   ],
   "source": [
    "print(\"\\nDaily\",daily.head(2))\n",
    "print(\"\\nTrain\",daily_train.head(2))\n",
    "print(\"\\nTest\",daily_test.head(2))\n",
    "print(\"\\nTrain Count : \",daily_train.count(),\"\\nTest Count : \",daily_test.count())\n",
    "# daily_train.plot()\n",
    "# daily_test.plot()"
   ]
  },
  {
   "cell_type": "markdown",
   "id": "5ba36bc0",
   "metadata": {},
   "source": [
    "## Plotting Rolling Mean and Standard Deviation of Dataset - Visual Test for Checking  Stationarity of dataset"
   ]
  },
  {
   "cell_type": "code",
   "execution_count": 17,
   "id": "6a33d867",
   "metadata": {},
   "outputs": [],
   "source": [
    "def check_mean_std(ts, name):\n",
    "\n",
    "    rolmean = ts.rolling(window=30).mean()\n",
    "    rolstd = ts.rolling(window=30).std()\n",
    "    plt.figure(figsize=(12,8))   \n",
    "    print(name)\n",
    "    \n",
    "    plt.style.use('seaborn')\n",
    "    plt.figure(figsize=(12,8))\n",
    "    plt.plot(ts, color='red',label='Original')\n",
    "    plt.plot(rolmean, color='black', label='Rolling Mean')\n",
    "    plt.plot(rolstd, color='green', label = 'Rolling Std')\n",
    "    plt.gcf().autofmt_xdate()\n",
    "    date_format = mpl_dates.DateFormatter('%d, %b, %Y')\n",
    "    plt.gca().xaxis.set_major_formatter(date_format)\n",
    "    plt.tight_layout()\n",
    "    plt.xlabel(\"Date\")\n",
    "    plt.ylabel(\"Daily Cases\")\n",
    "    plt.title('COVID-19 Daily Cases Rolling Mean & Standard Deviation(India)')\n",
    "    plt.legend()\n",
    "    plt.show()"
   ]
  },
  {
   "cell_type": "code",
   "execution_count": null,
   "id": "7567c494",
   "metadata": {
    "scrolled": true
   },
   "outputs": [],
   "source": [
    "check_mean_std(dataset['DailyCases'],'\\n\\nDaily Cases')"
   ]
  },
  {
   "cell_type": "markdown",
   "id": "b3e98623",
   "metadata": {},
   "source": [
    "#### The moving average is not constant but standard deviation seems to be constant."
   ]
  },
  {
   "cell_type": "markdown",
   "id": "45b060c4",
   "metadata": {},
   "source": [
    "## Performing ADF Test for checking stationarity of dataset"
   ]
  },
  {
   "cell_type": "code",
   "execution_count": 18,
   "id": "ca1823a5",
   "metadata": {},
   "outputs": [],
   "source": [
    "from statsmodels.tsa.stattools import adfuller\n",
    "def check_adfuller(att):\n",
    "\n",
    "    print('Results of Augmented Dickey Fuller Test:')\n",
    "    print(\"\\nInformation: For a stationary time series Test statistic is less than critical values.The p value[ranged between 0 to 1] <=0.05 for stationary time series\\n\")\n",
    "    dftest = adfuller(att, autolag='AIC')\n",
    "    \n",
    "    dfoutput = pd.Series(dftest[0:4], index=['Test Statistic','p-value','#Lags Used','Number of Observations Used'])\n",
    "    \n",
    "    for key,value in dftest[4].items():\n",
    "        dfoutput['Critical Value (%s)'%key] = value\n",
    "        \n",
    "    print(dfoutput)"
   ]
  },
  {
   "cell_type": "code",
   "execution_count": 19,
   "id": "97193779",
   "metadata": {},
   "outputs": [
    {
     "name": "stdout",
     "output_type": "stream",
     "text": [
      "Results of Augmented Dickey Fuller Test:\n",
      "\n",
      "Information: For a stationary time series Test statistic is less than critical values.The p value[ranged between 0 to 1] <=0.05 for stationary time series\n",
      "\n",
      "Test Statistic                  -3.866152\n",
      "p-value                          0.002299\n",
      "#Lags Used                      18.000000\n",
      "Number of Observations Used    479.000000\n",
      "Critical Value (1%)             -3.444076\n",
      "Critical Value (5%)             -2.867593\n",
      "Critical Value (10%)            -2.569994\n",
      "dtype: float64\n"
     ]
    }
   ],
   "source": [
    "check_adfuller(dataset['DailyCases'])"
   ]
  },
  {
   "cell_type": "markdown",
   "id": "1c6ae396",
   "metadata": {},
   "source": [
    "###  The p-value is very less, and the Test Statistic is less than Critical Values - So according to ADF Test the time series is somewhat stationary"
   ]
  },
  {
   "cell_type": "markdown",
   "id": "b8171660",
   "metadata": {},
   "source": [
    "## Plotting AutoCorrelationFunction(ACF) and Partial AutoCorrelation Function(PACF) Graphs\n",
    "RitMat"
   ]
  },
  {
   "cell_type": "code",
   "execution_count": 20,
   "id": "818da3ff",
   "metadata": {},
   "outputs": [
    {
     "name": "stderr",
     "output_type": "stream",
     "text": [
      "C:\\ProgramData\\Anaconda3\\lib\\site-packages\\statsmodels\\regression\\linear_model.py:1434: RuntimeWarning: invalid value encountered in sqrt\n",
      "  return rho, np.sqrt(sigmasq)\n"
     ]
    },
    {
     "data": {
      "image/png": "[encoded data removed]",
      "text/plain": [
       "<Figure size 432x288 with 1 Axes>"
      ]
     },
     "metadata": {
      "needs_background": "light"
     },
     "output_type": "display_data"
    },
    {
     "data": {
      "image/png": "[encoded data removed]",
      "text/plain": [
       "<Figure size 432x288 with 1 Axes>"
      ]
     },
     "metadata": {
      "needs_background": "light"
     },
     "output_type": "display_data"
    }
   ],
   "source": [
    "from statsmodels.graphics.tsaplots import plot_acf, plot_pacf\n",
    "\n",
    "acf_plot = plot_acf(daily.DailyCases,title=\"Autocorrelation Function Plot of Daily Cases\",lags=100)\n",
    "\n",
    "pacf_plot = plot_pacf(daily.DailyCases,title=\"Partial Autocorrelation Function Plot of Daily Cases\",lags=15)"
   ]
  },
  {
   "cell_type": "markdown",
   "id": "5bb43dce",
   "metadata": {},
   "source": [
    "### Old :Based on PACF Graph it looks like the lags 1,2,7,8,9,11,13,19 are good places to start for Auto Regressive model.\n",
    "### 6 June : Based on PACF Graph it looks like the lags 9,11,13,25 are good places to start for Auto Regressive model."
   ]
  },
  {
   "cell_type": "markdown",
   "id": "540f3cc3",
   "metadata": {},
   "source": [
    "### The auto correlation function(ACF) graph is decaying over time, which suggest an auto regressive process inherently. If it would have shut off immediately after some lags, it would have been close to a moving average model"
   ]
  },
  {
   "cell_type": "code",
   "execution_count": null,
   "id": "2aefb0e1",
   "metadata": {},
   "outputs": [],
   "source": [
    "from pandas.plotting import autocorrelation_plot  \n",
    "x = autocorrelation_plot(daily_train)\n",
    "   \n",
    "plt.style.use('seaborn')\n",
    "plt.figure(figsize=(12,8))\n",
    "# ploting the Curve\n",
    "x.plot()\n",
    "plt.show()"
   ]
  },
  {
   "cell_type": "markdown",
   "id": "c6d5ac62",
   "metadata": {},
   "source": [
    "Lag Value for  \n",
    "    daily : 50  \n",
    "    train : 100  \n",
    "    test : 30\n",
    "    "
   ]
  },
  {
   "cell_type": "code",
   "execution_count": null,
   "id": "e517ba83",
   "metadata": {},
   "outputs": [],
   "source": [
    "from statsmodels.tsa.stattools import acf, pacf\n",
    "def acf_pacf_plots(dataset):\n",
    "#     ts_diff = dataset - dataset.shift()\n",
    "#     ts_diff.dropna(inplace=True)\n",
    "    acf_result = acf(dataset,nlags=60)\n",
    "    pacf_result = pacf(dataset,nlags=10, method='ols')\n",
    "    \n",
    "    # ACF\n",
    "    plt.figure(figsize=(22,10))\n",
    "    plt.style.use('seaborn')\n",
    "    plt.subplot(121) \n",
    "    plt.plot(acf_result)\n",
    "    plt.axhline(y=0,linestyle='--',color='gray')\n",
    "    plt.axhline(y=-1.96/np.sqrt(len(dataset)),linestyle='--',color='gray')\n",
    "    plt.axhline(y=1.96/np.sqrt(len(dataset)),linestyle='--',color='gray')\n",
    "    plt.xlabel(\"Lags\")\n",
    "    plt.ylabel(\"Autocorrelation\")\n",
    "    plt.title('Autocorrelation Function')\n",
    "    \n",
    "#     PACF\n",
    "    plt.subplot(122)\n",
    "    plt.style.use('seaborn')\n",
    "    plt.plot(pacf_result)\n",
    "    plt.axhline(y=0,linestyle='--',color='gray')\n",
    "    plt.axhline(y=-1.96/np.sqrt(len(dataset)),linestyle='--',color='gray')\n",
    "    plt.axhline(y=1.96/np.sqrt(len(dataset)),linestyle='--',color='gray')\n",
    "    plt.title('Partial Autocorrelation Function')\n",
    "    plt.xlabel(\"Lags\")\n",
    "    plt.ylabel(\"Partial Autocorrelation\")\n",
    "    plt.tight_layout()"
   ]
  },
  {
   "cell_type": "code",
   "execution_count": null,
   "id": "d41b68a9",
   "metadata": {},
   "outputs": [],
   "source": [
    "acf_pacf_plots(daily)"
   ]
  },
  {
   "cell_type": "code",
   "execution_count": null,
   "id": "ac98717f",
   "metadata": {},
   "outputs": [],
   "source": [
    "# pip install --user pmdarima"
   ]
  },
  {
   "cell_type": "code",
   "execution_count": null,
   "id": "4dde4258",
   "metadata": {},
   "outputs": [],
   "source": [
    "# Import the library \n",
    "from pmdarima import auto_arima \n",
    "  \n",
    "# Ignore harmless warnings \n",
    "import warnings \n",
    "warnings.filterwarnings(\"ignore\") \n",
    "  \n",
    "# Fit auto_arima function to AirPassengers dataset \n",
    "stepwise_fit = auto_arima(daily_train, start_p = 1, start_q = 1, \n",
    "                          max_p = 3, max_q = 3, m = 12, \n",
    "                          start_P = 0, seasonal = True, \n",
    "                          d = None, D = 0, trace = True, \n",
    "                          error_action ='ignore',   # we don't want to know if an order does not work \n",
    "                          suppress_warnings = True,  # we don't want convergence warnings \n",
    "                          stepwise = True)           # set to stepwise \n",
    "  \n",
    "# To print the summary \n",
    "stepwise_fit.summary() "
   ]
  },
  {
   "cell_type": "markdown",
   "id": "a1c762fa",
   "metadata": {},
   "source": [
    "#Worth Knowing : How to index dataframe whose index is datetime\n",
    "from datetime import timedelta\n",
    "a = datetime(2021,1,15)\n",
    "b = datetime(2021,2,15)\n",
    "\n",
    "dummy = daily[:a]\n",
    "dummy2 = daily[a+timedelta(days=1):b]\n",
    "#It Works!"
   ]
  },
  {
   "cell_type": "markdown",
   "id": "38922bfe",
   "metadata": {},
   "source": [
    "### Auto Regressive Only Model"
   ]
  },
  {
   "cell_type": "code",
   "execution_count": 21,
   "id": "efeb7c8d",
   "metadata": {},
   "outputs": [],
   "source": [
    "from statsmodels.tsa.arima.model import ARIMA\n",
    "from time import time\n",
    "#stas..tsa.arima_model > Depreceated\n",
    "#ARMA Model also deprecated. Hence using ARIMA"
   ]
  },
  {
   "cell_type": "markdown",
   "id": "aff6b5b5",
   "metadata": {},
   "source": [
    "### Creating the AR Model  \n",
    ">Only using AR parameter i.e. p = 11 retreived from PACF Plot(direct lag autocorrelation)"
   ]
  },
  {
   "cell_type": "code",
   "execution_count": 35,
   "id": "c9327109",
   "metadata": {},
   "outputs": [],
   "source": [
    "ar_model=ARIMA(daily_train.DailyCases, order=(50,0,0))\n",
    "#Warnings dissappeared after applying inferred frequency function"
   ]
  },
  {
   "cell_type": "markdown",
   "id": "b1014a48",
   "metadata": {},
   "source": [
    "Fitting the created model to our dataset. We actually apply the model to the data now\n"
   ]
  },
  {
   "cell_type": "code",
   "execution_count": 36,
   "id": "b2185c2e",
   "metadata": {},
   "outputs": [
    {
     "name": "stderr",
     "output_type": "stream",
     "text": [
      "C:\\ProgramData\\Anaconda3\\lib\\site-packages\\statsmodels\\base\\model.py:566: ConvergenceWarning: Maximum Likelihood optimization failed to converge. Check mle_retvals\n",
      "  warnings.warn(\"Maximum Likelihood optimization failed to \"\n"
     ]
    },
    {
     "name": "stdout",
     "output_type": "stream",
     "text": [
      "Model Fitting Time :  38.46311616897583  s\n"
     ]
    }
   ],
   "source": [
    "start =time()\n",
    "ar_model_fit=ar_model.fit()\n",
    "end = time()\n",
    "print(\"Model Fitting Time : \", end-start,\" s\")"
   ]
  },
  {
   "cell_type": "code",
   "execution_count": 37,
   "id": "c020eb36",
   "metadata": {},
   "outputs": [
    {
     "name": "stdout",
     "output_type": "stream",
     "text": [
      "                               SARIMAX Results                                \n",
      "==============================================================================\n",
      "Dep. Variable:             DailyCases   No. Observations:                  398\n",
      "Model:                ARIMA(50, 0, 0)   Log Likelihood               -3765.170\n",
      "Date:                Sat, 05 Jun 2021   AIC                           7634.340\n",
      "Time:                        09:17:19   BIC                           7841.636\n",
      "Sample:                    01-22-2020   HQIC                          7716.448\n",
      "                         - 02-22-2021                                         \n",
      "Covariance Type:                  opg                                         \n",
      "==============================================================================\n",
      "                 coef    std err          z      P>|z|      [0.025      0.975]\n",
      "------------------------------------------------------------------------------\n",
      "const       2.768e+04   1.71e+04      1.619      0.105   -5819.898    6.12e+04\n",
      "ar.L1          0.3276      0.050      6.524      0.000       0.229       0.426\n",
      "ar.L2          0.2084      0.049      4.213      0.000       0.111       0.305\n",
      "ar.L3          0.2691      0.067      4.033      0.000       0.138       0.400\n",
      "ar.L4          0.1068      0.074      1.446      0.148      -0.038       0.252\n",
      "ar.L5          0.1181      0.068      1.730      0.084      -0.016       0.252\n",
      "ar.L6         -0.0197      0.056     -0.349      0.727      -0.130       0.091\n",
      "ar.L7          0.3144      0.052      6.081      0.000       0.213       0.416\n",
      "ar.L8          0.1170      0.049      2.409      0.016       0.022       0.212\n",
      "ar.L9         -0.2399      0.060     -4.005      0.000      -0.357      -0.122\n",
      "ar.L10        -0.1101      0.067     -1.635      0.102      -0.242       0.022\n",
      "ar.L11        -0.0684      0.073     -0.940      0.347      -0.211       0.074\n",
      "ar.L12        -0.0704      0.069     -1.020      0.308      -0.206       0.065\n",
      "ar.L13         0.0852      0.065      1.308      0.191      -0.042       0.213\n",
      "ar.L14         0.1020      0.063      1.608      0.108      -0.022       0.226\n",
      "ar.L15        -0.0481      0.064     -0.756      0.450      -0.173       0.077\n",
      "ar.L16        -0.1084      0.078     -1.395      0.163      -0.261       0.044\n",
      "ar.L17         0.0119      0.079      0.150      0.881      -0.144       0.167\n",
      "ar.L18         0.0010      0.091      0.011      0.992      -0.177       0.179\n",
      "ar.L19         0.0438      0.072      0.610      0.542      -0.097       0.184\n",
      "ar.L20         0.0353      0.085      0.416      0.678      -0.131       0.202\n",
      "ar.L21         0.1165      0.073      1.596      0.110      -0.027       0.259\n",
      "ar.L22        -0.1129      0.087     -1.298      0.194      -0.283       0.058\n",
      "ar.L23        -0.0809      0.074     -1.088      0.277      -0.227       0.065\n",
      "ar.L24        -0.0702      0.078     -0.896      0.370      -0.224       0.083\n",
      "ar.L25        -0.0790      0.092     -0.857      0.391      -0.260       0.102\n",
      "ar.L26         0.0061      0.079      0.076      0.939      -0.149       0.161\n",
      "ar.L27         0.0395      0.091      0.433      0.665      -0.139       0.218\n",
      "ar.L28        -0.0004      0.081     -0.005      0.996      -0.159       0.159\n",
      "ar.L29         0.0747      0.092      0.816      0.414      -0.105       0.254\n",
      "ar.L30         0.0974      0.090      1.085      0.278      -0.079       0.273\n",
      "ar.L31         0.0232      0.098      0.236      0.813      -0.169       0.216\n",
      "ar.L32        -0.0261      0.094     -0.276      0.783      -0.211       0.159\n",
      "ar.L33        -0.0711      0.089     -0.797      0.425      -0.246       0.104\n",
      "ar.L34        -0.0203      0.090     -0.226      0.821      -0.197       0.156\n",
      "ar.L35         0.0993      0.102      0.977      0.329      -0.100       0.298\n",
      "ar.L36        -0.0587      0.097     -0.604      0.546      -0.249       0.132\n",
      "ar.L37        -0.0692      0.097     -0.716      0.474      -0.258       0.120\n",
      "ar.L38        -0.0902      0.100     -0.906      0.365      -0.285       0.105\n",
      "ar.L39         0.0598      0.102      0.585      0.559      -0.141       0.260\n",
      "ar.L40        -0.0041      0.085     -0.049      0.961      -0.171       0.163\n",
      "ar.L41         0.1005      0.083      1.206      0.228      -0.063       0.264\n",
      "ar.L42         0.0336      0.106      0.317      0.751      -0.174       0.241\n",
      "ar.L43        -0.0590      0.094     -0.626      0.531      -0.244       0.126\n",
      "ar.L44         0.0735      0.078      0.949      0.343      -0.078       0.225\n",
      "ar.L45         0.0545      0.095      0.576      0.565      -0.131       0.240\n",
      "ar.L46         0.0428      0.093      0.459      0.646      -0.140       0.226\n",
      "ar.L47        -0.1145      0.100     -1.146      0.252      -0.310       0.081\n",
      "ar.L48        -0.0284      0.093     -0.304      0.761      -0.211       0.155\n",
      "ar.L49        -0.0305      0.090     -0.338      0.735      -0.207       0.146\n",
      "ar.L50         0.0033      0.087      0.038      0.970      -0.167       0.174\n",
      "sigma2      1.056e+07     45.444   2.32e+05      0.000    1.06e+07    1.06e+07\n",
      "===================================================================================\n",
      "Ljung-Box (L1) (Q):                   0.00   Jarque-Bera (JB):              2167.01\n",
      "Prob(Q):                              0.97   Prob(JB):                         0.00\n",
      "Heteroskedasticity (H):              59.35   Skew:                             0.46\n",
      "Prob(H) (two-sided):                  0.00   Kurtosis:                        14.39\n",
      "===================================================================================\n",
      "\n",
      "Warnings:\n",
      "[1] Covariance matrix calculated using the outer product of gradients (complex-step).\n",
      "[2] Covariance matrix is singular or near-singular, with condition number 4.93e+20. Standard errors may be unstable.\n"
     ]
    }
   ],
   "source": [
    "#Summary of the model\n",
    "print(ar_model_fit.summary())"
   ]
  },
  {
   "cell_type": "markdown",
   "id": "994e39a5",
   "metadata": {},
   "source": [
    "### ARIMA(11,0,0) : Lags : 1,2,3,6,7,9,11 : For which p value is 0.00"
   ]
  },
  {
   "cell_type": "code",
   "execution_count": null,
   "id": "c0e9ecff",
   "metadata": {},
   "outputs": [],
   "source": [
    "#get prediction start and end dates\n",
    "arPredStart = daily_test.index[0]\n",
    "arPredEnd = daily_test.index[-1]"
   ]
  },
  {
   "cell_type": "code",
   "execution_count": null,
   "id": "04750a76",
   "metadata": {},
   "outputs": [],
   "source": [
    "#Get the predictions and residuals\n",
    "ar_pred = ar_model_fit.predict(start=arPredStart,end=arPredEnd)\n",
    "ar_residuals = daily_test - ar_pred"
   ]
  },
  {
   "cell_type": "code",
   "execution_count": null,
   "id": "8916f155",
   "metadata": {},
   "outputs": [],
   "source": [
    "plt.figure(figsize=(10,4))\n",
    "plt.plot(ar_pred,color='b')\n",
    "plt.plot(daily_train,color='r')\n",
    "plt.plot(daily_test,color='g')\n",
    "# plt.title(\"Residuals from AR Model \",fontsize=20)\n",
    "plt.axhline(0,color='r',linestyle='--',alpha=0.2)"
   ]
  },
  {
   "cell_type": "code",
   "execution_count": null,
   "id": "2924bbe4",
   "metadata": {},
   "outputs": [],
   "source": [
    "ar_pred.plot()\n",
    "daily_test.plot()"
   ]
  },
  {
   "cell_type": "markdown",
   "id": "b86564bb",
   "metadata": {},
   "source": [
    "# ------KEEP MOVING FORWARD!!-------"
   ]
  }
 ],
 "metadata": {
  "kernelspec": {
   "display_name": "Python 3",
   "language": "python",
   "name": "python3"
  },
  "language_info": {
   "codemirror_mode": {
    "name": "ipython",
    "version": 3
   },
   "file_extension": ".py",
   "mimetype": "text/x-python",
   "name": "python",
   "nbconvert_exporter": "python",
   "pygments_lexer": "ipython3",
   "version": "3.8.8"
  }
 },
 "nbformat": 4,
 "nbformat_minor": 5
}
